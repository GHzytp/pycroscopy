{
  "cells": [
    {
      "cell_type": "markdown",
      "metadata": {
        "pycharm": {}
      },
      "source": [
        "# Band Excitation data procesing\n",
        "### Suhas Somnath, Chris R. Smith, Stephen Jesse\n",
        "The Center for Nanophase Materials Science and The Institute for Functional Imaging for Materials \u003cbr\u003e\n",
        "Oak Ridge National Laboratory\u003cbr\u003e\n",
        "2/10/2017\n",
        "\n",
        "### Reference:\n",
        "This Jupyter notebook uses [pycroscopy](https://pycroscopy.github.io/pycroscopy/about.html) to analyze Band Excitation data. We request you to reference the [Arxiv paper](https://arxiv.org/abs/1903.09515) titled \"*USID and Pycroscopy - Open frameworks for storing and analyzing spectroscopic and imaging data*\" in your publications.  \n",
        "\n",
        "#### Jupyter Notebooks:\n",
        "This is a Jupyter Notebook - it contains text and executable code `cells`. To learn more about how to use it, please see [this video](https://www.youtube.com/watch?v\u003djZ952vChhuI). Please see the image below for some basic tips on using this notebook.\n",
        "\n",
        "If you have any questions or need help running this notebook, please get in touch with your host if you are a users at the Center for Nanophase Materials Science (CNMS) or our [google group](https://groups.google.com/forum/#!forum/pycroscopy).\n",
        "\n",
        "![notebook_rules.png](https://raw.githubusercontent.com/pycroscopy/pycroscopy/master/jupyter_notebooks/notebook_rules.png)\n",
        "\n",
        "Image courtesy of Jean Bilheux from the [neutron imaging](https://github.com/neutronimaging/python_notebooks) GitHub repository."
      ]
    },
    {
      "cell_type": "markdown",
      "metadata": {
        "pycharm": {}
      },
      "source": [
        "## Configure the notebook"
      ]
    },
    {
      "cell_type": "code",
      "execution_count": null,
      "metadata": {
        "pycharm": {}
      },
      "outputs": [],
      "source": [
        "# Make sure needed packages are installed and up-to-date\n",
        "import sys\n",
        "!conda install --yes --prefix {sys.prefix} numpy scipy matplotlib scikit-learn Ipython ipywidgets h5py\n",
        "!{sys.executable} -m pip install -U --no-deps pycroscopy  # this will automatically install pyUSID as well"
      ]
    },
    {
      "cell_type": "code",
      "execution_count": null,
      "metadata": {
        "pycharm": {}
      },
      "outputs": [],
      "source": "# Ensure python 3 compatibility\nfrom __future__ import division, print_function, absolute_import\n\n# Import necessary libraries:\n# General utilities:\nimport os\n\n# Computation:\nimport numpy as np\nimport h5py\n\n# Visualization:\nimport matplotlib.pyplot as plt\nfrom IPython.display import display, HTML\n\nimport pyUSID as usid\n# Finally, pycroscopy itself\nsys.path.append(\u0027..\u0027)\nimport pycroscopy as px\n\n# Make Notebook take up most of page width\ndisplay(HTML(data\u003d\"\"\"\n\u003cstyle\u003e\n    div#notebook-container    { width: 95%; }\n    div#menubar-container     { width: 65%; }\n    div#maintoolbar-container { width: 99%; }\n\u003c/style\u003e\n\"\"\"))"
    },
    {
      "cell_type": "code",
      "execution_count": null,
      "metadata": {
        "pycharm": {}
      },
      "outputs": [],
      "source": "# set up notebook to show plots within the notebook\n%matplotlib notebook"
    },
    {
      "cell_type": "markdown",
      "metadata": {
        "pycharm": {}
      },
      "source": [
        "## Set some basic parameters for computation\n",
        "This notebook performs some functional fitting whose duration can be substantially decreased by using more memory and CPU cores. We have provided default values below but you may choose to change them if necessary."
      ]
    },
    {
      "cell_type": "code",
      "execution_count": null,
      "metadata": {
        "pycharm": {}
      },
      "outputs": [],
      "source": [
        "max_mem         \u003d 1024*8  # Maximum memory to use, in Mbs. Default \u003d 1024\n",
        "max_cores       \u003d None    # Number of logical cores to use in fitting.  None uses all but 2 available cores."
      ]
    },
    {
      "cell_type": "markdown",
      "metadata": {
        "pycharm": {}
      },
      "source": [
        "## Make the data pycroscopy compatible\n",
        "Converting the raw data into a pycroscopy compatible hierarchical data format (HDF or .h5) file gives you access to the fast fitting algorithms and powerful analysis functions within pycroscopy\n",
        "\n",
        "#### H5 files:\n",
        "* are like smart containers that can store matrices with data, folders to organize these datasets, images, metadata like experimental parameters, links or shortcuts to datasets, etc.\n",
        "* are readily compatible with high-performance computing facilities\n",
        "* scale very efficiently from few kilobytes to several terabytes\n",
        "* can be read and modified using any language including Python, Matlab, C/C++, Java, Fortran, Igor Pro, etc.\n",
        "\n",
        "#### You can load either of the following:\n",
        "* Any .mat or .txt parameter file from the original experiment\n",
        "* A .h5 file generated from the raw data using pycroscopy - skips translation\n",
        "\n",
        "You can select desired file type by choosing the second option in the pull down menu on the bottom right of the file window"
      ]
    },
    {
      "cell_type": "code",
      "execution_count": null,
      "metadata": {
        "scrolled": false,
        "pycharm": {}
      },
      "outputs": [],
      "source": [
        "input_file_path \u003d usid.io_utils.file_dialog(caption\u003d\u0027Select translated .h5 file or raw experiment data\u0027,\n",
        "                                          file_filter\u003d\u0027Parameters for raw BE data (*.txt *.mat *xls *.xlsx);; \\\n",
        "                                          Translated file (*.h5)\u0027)\n",
        "\n",
        "(data_dir, filename) \u003d os.path.split(input_file_path)\n",
        "\n",
        "if input_file_path.endswith(\u0027.h5\u0027):\n",
        "    # No translation here\n",
        "    h5_path \u003d input_file_path\n",
        "    force \u003d True # Set this to true to force patching of the datafile.\n",
        "    tl \u003d px.io.translators.LabViewH5Patcher()\n",
        "    tl.translate(h5_path, force_patch\u003dforce)\n",
        "else:\n",
        "    # Set the data to be translated\n",
        "    data_path \u003d input_file_path\n",
        "\n",
        "    (junk, base_name) \u003d os.path.split(data_dir)\n",
        "\n",
        "    # Check if the data is in the new or old format.  Initialize the correct translator for the format.\n",
        "    if base_name \u003d\u003d \u0027newdataformat\u0027:\n",
        "        (junk, base_name) \u003d os.path.split(junk)\n",
        "        translator \u003d px.io.translators.BEPSndfTranslator(max_mem_mb\u003dmax_mem)\n",
        "    else:\n",
        "        translator \u003d px.io.translators.BEodfTranslator(max_mem_mb\u003dmax_mem)\n",
        "    if base_name.endswith(\u0027_d\u0027):\n",
        "        base_name \u003d base_name[:-2]\n",
        "    # Translate the data\n",
        "    h5_path \u003d translator.translate(data_path, show_plots\u003dTrue, save_plots\u003dFalse)\n",
        "\n",
        "h5_file \u003d h5py.File(h5_path, \u0027r+\u0027)\n",
        "print(\u0027Working on:\\n\u0027 + h5_path)\n",
        "\n",
        "h5_main \u003d usid.hdf_utils.find_dataset(h5_file, \u0027Raw_Data\u0027)[0]"
      ]
    },
    {
      "cell_type": "markdown",
      "metadata": {
        "pycharm": {}
      },
      "source": [
        "##### Inspect the contents of this h5 data file\n",
        "The file contents are stored in a tree structure, just like files on a conventional computer.\n",
        "The data is stored as a 2D matrix (position, spectroscopic value) regardless of the dimensionality of the data. Thus, the positions will be arranged as row0-col0, row0-col1.... row0-colN, row1-col0.... and the data for each position is stored as it was chronologically collected  \n",
        "\n",
        "The main dataset is always accompanied by four ancillary datasets that explain the position and spectroscopic value of any given element in the dataset."
      ]
    },
    {
      "cell_type": "code",
      "execution_count": null,
      "metadata": {
        "scrolled": false,
        "pycharm": {}
      },
      "outputs": [],
      "source": [
        "print(\u0027Datasets and datagroups within the file:\\n------------------------------------\u0027)\n",
        "usid.hdf_utils.print_tree(h5_file)\n",
        " \n",
        "print(\u0027\\nThe main dataset:\\n------------------------------------\u0027)\n",
        "print(h5_main)\n",
        "print(\u0027\\nThe ancillary datasets:\\n------------------------------------\u0027)\n",
        "print(h5_main.h5_pos_inds)\n",
        "print(h5_main.h5_pos_vals)\n",
        "print(h5_main.h5_spec_inds)\n",
        "print(h5_main.h5_spec_vals)\n",
        "\n",
        "print(\u0027\\nMetadata or attributes in a datagroup\\n------------------------------------\u0027)\n",
        "for key, val in usid.hdf_utils.get_attributes(h5_main.parent.parent).items():\n",
        "    print(\u0027{} : {}\u0027.format(key, val))"
      ]
    },
    {
      "cell_type": "markdown",
      "metadata": {
        "pycharm": {}
      },
      "source": [
        "## Get some basic parameters from the H5 file\n",
        "This information will be vital for futher analysis and visualization of the data"
      ]
    },
    {
      "cell_type": "code",
      "execution_count": null,
      "metadata": {
        "pycharm": {}
      },
      "outputs": [],
      "source": [
        "h5_pos_inds \u003d h5_main.h5_pos_inds\n",
        "pos_dims \u003d h5_main.pos_dim_sizes\n",
        "pos_labels \u003d h5_main.pos_dim_labels\n",
        "print(pos_labels, pos_dims)\n",
        "\n",
        "parm_dict \u003d h5_main.parent.parent.attrs\n",
        "is_ckpfm \u003d h5_file.attrs[\u0027data_type\u0027] \u003d\u003d \u0027cKPFMData\u0027\n",
        "if is_ckpfm:\n",
        "    num_write_steps \u003d parm_dict[\u0027VS_num_DC_write_steps\u0027]\n",
        "    num_read_steps \u003d parm_dict[\u0027VS_num_read_steps\u0027]\n",
        "    num_fields \u003d 2"
      ]
    },
    {
      "cell_type": "markdown",
      "metadata": {
        "pycharm": {}
      },
      "source": [
        "## Visualize the raw data\n",
        "Use the sliders below to visualize spatial maps (2D only for now), and spectrograms.\n",
        "For simplicity, all the spectroscopic dimensions such as frequency, excitation bias, cycle, field, etc. have been collapsed to a single slider."
      ]
    },
    {
      "cell_type": "code",
      "execution_count": null,
      "metadata": {
        "scrolled": false,
        "pycharm": {}
      },
      "outputs": [],
      "source": [
        "fig \u003d px.viz.be_viz_utils.jupyter_visualize_be_spectrograms(h5_main)"
      ]
    },
    {
      "cell_type": "code",
      "execution_count": null,
      "metadata": {
        "pycharm": {}
      },
      "outputs": [],
      "source": "sho_fit_points \u003d 5  # The number of data points at each step to use when fitting\nsho_override \u003d False  # Force recompute if True\nsho_fitter \u003d px.analysis.BESHOfitter(h5_main, cores\u003dmax_cores, verbose\u003dFalse)\nsho_fitter.set_up_guess(guess_func\u003dpx.analysis.be_sho_fitter.SHOGuessFunc.complex_gaussian,\n                        num_points\u003dsho_fit_points)\nh5_sho_guess \u003d sho_fitter.do_guess(override\u003dsho_override)\nsho_fitter.set_up_fit()\nh5_sho_fit \u003d sho_fitter.do_fit(override\u003dsho_override)"
    },
    {
      "cell_type": "markdown",
      "metadata": {
        "pycharm": {}
      },
      "source": [
        "## Visualize the SHO results\n",
        "Here, we visualize the parameters for the SHO fits. BE-line (3D) data is visualized via simple spatial maps of the SHO parameters while more complex BEPS datasets (4+ dimensions) can be visualized using a simple interactive visualizer below. \n",
        "\n",
        "You can choose to visualize the guesses for SHO function or the final fit values from the first line of the cell below.\n",
        "\n",
        "Use the sliders below to inspect the BE response at any given location. "
      ]
    },
    {
      "cell_type": "code",
      "execution_count": null,
      "metadata": {
        "pycharm": {}
      },
      "outputs": [],
      "source": [
        "h5_sho_spec_inds \u003d h5_sho_fit.h5_spec_inds\n",
        "sho_spec_labels \u003d h5_sho_fit.spec_dim_labels\n",
        "\n",
        "if is_ckpfm:\n",
        "    # It turns out that the read voltage index starts from 1 instead of 0\n",
        "    # Also the VDC indices are NOT repeating. They are just rising monotonically\n",
        "    write_volt_index \u003d np.argwhere(sho_spec_labels \u003d\u003d \u0027write_bias\u0027)[0][0]\n",
        "    read_volt_index \u003d np.argwhere(sho_spec_labels \u003d\u003d \u0027read_bias\u0027)[0][0]\n",
        "    h5_sho_spec_inds[read_volt_index, :] -\u003d 1\n",
        "    h5_sho_spec_inds[write_volt_index, :] \u003d np.tile(np.repeat(np.arange(num_write_steps), num_fields), num_read_steps)\n",
        "\n",
        "(Nd_mat, success, nd_labels) \u003d usid.hdf_utils.reshape_to_n_dims(h5_sho_fit, get_labels\u003dTrue)\n",
        "print(\u0027Reshape Success: \u0027 + str(success))\n",
        "\n",
        "print(nd_labels)\n",
        "print(Nd_mat.shape)"
      ]
    },
    {
      "cell_type": "code",
      "execution_count": null,
      "metadata": {
        "scrolled": false,
        "pycharm": {}
      },
      "outputs": [],
      "source": [
        "use_sho_guess \u003d False\n",
        "use_static_viz_func \u003d False\n",
        "\n",
        "if use_sho_guess:\n",
        "    sho_dset \u003d h5_sho_guess\n",
        "else:\n",
        "    sho_dset \u003d h5_sho_fit\n",
        "\n",
        "data_type \u003d usid.hdf_utils.get_attr(h5_file, \u0027data_type\u0027)\n",
        "    \n",
        "if data_type \u003d\u003d \u0027BELineData\u0027 or len(pos_dims) !\u003d 2:\n",
        "    use_static_viz_func \u003d True\n",
        "    step_chan \u003d None\n",
        "else:\n",
        "    vs_mode \u003d usid.hdf_utils.get_attr(h5_main.parent.parent, \u0027VS_mode\u0027)\n",
        "    if vs_mode not in [\u0027AC modulation mode with time reversal\u0027, \n",
        "                                                      \u0027DC modulation mode\u0027]:\n",
        "        use_static_viz_func \u003d True\n",
        "    else:\n",
        "        if vs_mode \u003d\u003d \u0027DC modulation mode\u0027:\n",
        "            step_chan \u003d \u0027DC_Offset\u0027\n",
        "        else:\n",
        "            step_chan \u003d \u0027AC_Amplitude\u0027\n",
        "if not use_static_viz_func:\n",
        "    try:\n",
        "        # use interactive visualization\n",
        "        px.viz.be_viz_utils.jupyter_visualize_beps_sho(sho_dset, step_chan)\n",
        "    except:\n",
        "        raise\n",
        "        print(\u0027There was a problem with the interactive visualizer\u0027)\n",
        "        use_static_viz_func \u003d True\n",
        "else:\n",
        "    # show plots of SHO results vs. applied bias\n",
        "    figs \u003d px.viz.be_viz_utils.visualize_sho_results(sho_dset, show_plots\u003dTrue, \n",
        "                                              save_plots\u003dFalse)"
      ]
    },
    {
      "cell_type": "markdown",
      "metadata": {
        "pycharm": {}
      },
      "source": [
        "## Fit loops to a function\n",
        "This is applicable only to DC voltage spectroscopy datasets from BEPS. The PFM hysteresis loops in this dataset will be projected to maximize the loop area and then fitted to a function.\n",
        "\n",
        "Note: This computation generally takes a while for reasonably sized datasets."
      ]
    },
    {
      "cell_type": "code",
      "execution_count": null,
      "metadata": {
        "scrolled": false,
        "pycharm": {}
      },
      "outputs": [],
      "source": "# Do the Loop Fitting on the SHO Fit dataset\nloop_success \u003d False\nloop_fitter \u003d px.analysis.BELoopFitter(h5_sho_fit, cores\u003dmax_cores, verbose\u003dFalse)\nloop_fitter.set_up_guess()\nh5_loop_guess \u003d loop_fitter.do_guess(override\u003dFalse)\nloop_fitter.set_up_fit()\nh5_loop_fit \u003d loop_fitter.do_fit(override\u003dFalse)\nh5_loop_group \u003d h5_loop_fit.parent\nloop_success \u003d True"
    },
    {
      "cell_type": "markdown",
      "metadata": {
        "pycharm": {}
      },
      "source": [
        "## Prepare datasets for visualization"
      ]
    },
    {
      "cell_type": "code",
      "execution_count": null,
      "metadata": {
        "pycharm": {}
      },
      "outputs": [],
      "source": [
        "# Prepare some variables for plotting loops fits and guesses\n",
        "# Plot the Loop Guess and Fit Results\n",
        "if loop_success:\n",
        "    h5_projected_loops \u003d usid.USIDataset(h5_loop_guess.parent[\u0027Projected_Loops\u0027])\n",
        "    h5_proj_spec_inds \u003d h5_projected_loops.h5_spec_inds\n",
        "    h5_proj_spec_vals \u003d h5_projected_loops.h5_spec_vals\n",
        "\n",
        "    # reshape the vdc_vec into DC_step by Loop\n",
        "    sort_order \u003d usid.hdf_utils.get_sort_order(h5_proj_spec_inds)\n",
        "    dims \u003d usid.hdf_utils.get_dimensionality(h5_proj_spec_inds[()], \n",
        "                                           sort_order[::-1])\n",
        "    vdc_vec \u003d np.reshape(h5_proj_spec_vals[h5_proj_spec_vals.attrs[\u0027DC_Offset\u0027]], dims).T\n",
        "\n",
        "    #Also reshape the projected loops to Positions-DC_Step-Loop\n",
        "    # Also reshape the projected loops to Positions-DC_Step-Loop\n",
        "    proj_nd \u003d h5_projected_loops.get_n_dim_form()\n",
        "    proj_3d \u003d np.reshape(proj_nd, [h5_projected_loops.shape[0], \n",
        "                                   proj_nd.shape[2], -1])"
      ]
    },
    {
      "cell_type": "markdown",
      "metadata": {
        "pycharm": {}
      },
      "source": [
        "## Visualize Loop fits"
      ]
    },
    {
      "cell_type": "code",
      "execution_count": null,
      "metadata": {
        "scrolled": false,
        "pycharm": {}
      },
      "outputs": [],
      "source": [
        "use_static_plots \u003d False\n",
        "if loop_success:\n",
        "    if not use_static_plots:\n",
        "        try:\n",
        "            fig \u003d px.viz.be_viz_utils.jupyter_visualize_beps_loops(h5_projected_loops, h5_loop_guess, h5_loop_fit)\n",
        "        except:\n",
        "            print(\u0027There was a problem with the interactive visualizer\u0027)\n",
        "            use_static_plots \u003d True\n",
        "    if use_static_plots:\n",
        "        for iloop in range(h5_loop_guess.shape[1]):\n",
        "            fig, ax \u003d px.viz.be_viz_utils.plot_loop_guess_fit(vdc_vec[:, iloop], proj_3d[:, :, iloop], \n",
        "                                          h5_loop_guess[:, iloop], h5_loop_fit[:, iloop],\n",
        "                                          title\u003d\u0027Loop {} - All Positions\u0027.format(iloop))"
      ]
    },
    {
      "cell_type": "markdown",
      "metadata": {
        "pycharm": {}
      },
      "source": [
        "## Loop Parameters\n",
        "We will now load the loop parameters caluculated from the fit and plot them."
      ]
    },
    {
      "cell_type": "code",
      "execution_count": null,
      "metadata": {
        "scrolled": false,
        "pycharm": {}
      },
      "outputs": [],
      "source": [
        "h5_loop_parameters \u003d h5_loop_group[\u0027Fit_Loop_Parameters\u0027]\n",
        "fig \u003d px.viz.be_viz_utils.jupyter_visualize_parameter_maps(h5_loop_parameters)"
      ]
    },
    {
      "cell_type": "code",
      "execution_count": null,
      "metadata": {
        "scrolled": false,
        "pycharm": {}
      },
      "outputs": [],
      "source": [
        "map_parm \u003d \u0027Work of Switching\u0027\n",
        "plot_cycle \u003d 0\n",
        "plot_position \u003d (int(pos_dims[0]/2), int(pos_dims[1]/2))\n",
        "plot_bias_step \u003d 0\n",
        "fig \u003d px.viz.be_viz_utils.plot_loop_sho_raw_comparison(h5_loop_parameters, map_parm, plot_cycle, plot_position, plot_bias_step)\n"
      ]
    },
    {
      "cell_type": "markdown",
      "metadata": {
        "pycharm": {}
      },
      "source": [
        "## Save and close\n",
        "* Save the .h5 file that we are working on by closing it. \u003cbr\u003e\n",
        "* Also, consider exporting this notebook as a notebook or an html file. \u003cbr\u003e To do this, go to File \u003e\u003e Download as \u003e\u003e HTML\n",
        "* Finally consider saving this notebook if necessary"
      ]
    },
    {
      "cell_type": "code",
      "execution_count": null,
      "metadata": {
        "pycharm": {}
      },
      "outputs": [],
      "source": [
        "h5_file.close()"
      ]
    }
  ],
  "metadata": {
    "anaconda-cloud": {},
    "kernelspec": {
      "display_name": "Python [default]",
      "language": "python",
      "name": "python3"
    },
    "language_info": {
      "codemirror_mode": {
        "name": "ipython",
        "version": 3
      },
      "file_extension": ".py",
      "mimetype": "text/x-python",
      "name": "python",
      "nbconvert_exporter": "python",
      "pygments_lexer": "ipython3",
      "version": "3.5.5"
    },
    "widgets": {
      "state": {
        "626c09f4ed724d658d702180fe718a7f": {
          "views": [
            {
              "cell_index": 12
            }
          ]
        }
      },
      "version": "1.2.0"
    }
  },
  "nbformat": 4,
  "nbformat_minor": 1
}