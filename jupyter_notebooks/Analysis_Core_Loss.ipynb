{
 "cells": [
  {
   "cell_type": "markdown",
   "metadata": {
    "hideCode": true,
    "hidePrompt": true
   },
   "source": [
    "\n",
    "# <center> A processing and analytics system for microscopy data workflows: the Pycroscopy ecosystem of packages\n",
    "\n",
    "<center><font size = 3> R. Vasudevan<sup>1,*</sup>, S. M. Valleti,<sup>2</sup> M. Ziatdinov,<sup>1,3</sup> G. Duscher,<sup>4,**</sup> and S. Somnath<sup>5,6</sup> </font></center>\n",
    "\n",
    "<sup>1</sup>Center for Nanophase Materials Sciences, Oak Ridge National Laboratory \\\n",
    "<sup>2</sup>Bredesen Center for Interdisciplinary Research, University of Tennessee, Knoxville \\\n",
    "<sup>3</sup>Computational Sciences and Engineering Division, Oak Ridge National Laboratory \\\n",
    "<sup>4</sup>Department of Materials Science and Engineering, University of Tennessee, Knoxville \\\n",
    "<sup>5</sup>National Center for Computational Sciences, Oak Ridge National Laboratory \\\n",
    "<sup>6</sup>Current affiliation: McKinsey Consulting Group\n",
    "\n",
    "## <left> Analysis of Core Loss Spectra\n",
    "by Gerd Duscher, 2020\n",
    "\n",
    "Microscopy Facilities\n",
    "Joint Institute of Advanced Materials\n",
    "The University of Tennessee, Knoxville\n",
    "    \n",
    "Model based analysis and quantification of data acquired with transmission electron microscopes\n"
   ]
  },
  {
   "cell_type": "markdown",
   "metadata": {
    "hideCode": true,
    "hidePrompt": true
   },
   "source": [
    "## Content\n",
    "\n",
    "Quantitative determination of chemical composition from a core-loss EELS spectrum\n",
    "\n",
    "\n",
    "Relavant notebooks in course [MSE 672: Introduction to TEM]()  give an in depth explanation of the method.\n",
    "\n",
    "Please cite:\n",
    "\n",
    "[M. Tian et  al. *Measuring the areal density of nanomaterials by electron energy-loss spectroscopy*\n",
    "Ultramicroscopy Volume 196, 2019, pages 154-160](https://doi.org/10.1016/j.ultramic.2018.10.009)\n",
    "\n",
    "as a reference of this quantification method.\n",
    "\n",
    "## Prerequesites\n",
    "This notebook will only run with  ``version 0.2022.6.0`` or higher.\n",
    "\n",
    "### Install missing packages\n",
    "This can take a while for the first time. This code will have to run at least once on you computer or colab session."
   ]
  },
  {
   "cell_type": "code",
   "execution_count": null,
   "metadata": {},
   "outputs": [],
   "source": [
    "import sys\n",
    "from pkg_resources import get_distribution, DistributionNotFound\n",
    "\n",
    "def test_package(package_name):\n",
    "    \"\"\"Test if package exists without loading nd returns version or -1\"\"\"\n",
    "    try:\n",
    "        version = (get_distribution(package_name).version)\n",
    "    except (DistributionNotFound, ImportError) as err:\n",
    "        version = '-1'\n",
    "    return version\n",
    "\n",
    "# pyTEMlib setup ------------------\n",
    "if test_package('pyTEMlib') < '0.2022.9.0':\n",
    "    print('installing pyTEMlib')\n",
    "    !{sys.executable} -m pip install  --upgrade pyTEMlib -q\n",
    "# ------------------------------\n",
    "print('done')"
   ]
  },
  {
   "cell_type": "markdown",
   "metadata": {
    "hideCode": false,
    "hidePrompt": false
   },
   "source": [
    "### Load the relevant packages"
   ]
  },
  {
   "cell_type": "code",
   "execution_count": null,
   "metadata": {
    "hideCode": true,
    "hidePrompt": false
   },
   "outputs": [],
   "source": [
    "%matplotlib notebook\n",
    "import numpy as np\n",
    "import matplotlib.pylab as plt\n",
    "%gui qt\n",
    "\n",
    "import sys\n",
    "sys.path.insert(0, '../..')\n",
    "import pyTEMlib\n",
    "import pyTEMlib.file_tools as ft     # File input/ output library\n",
    "import pyTEMlib.image_tools as it\n",
    "import pyTEMlib.eels_tools  as eels        # EELS methods \n",
    "\n",
    "import pyTEMlib.interactive_eels as ieels  # Dialogs for EELS input and quantification\n",
    "\n",
    "# For archiving reasons it is a good idea to print the version numbers out at this point\n",
    "print('pyTEM version: ', pyTEMlib.__version__)\n",
    "\n",
    "__notebook__ = 'analyse_core_loss'\n",
    "__notebook_version__ = '2022_09_24'"
   ]
  },
  {
   "cell_type": "markdown",
   "metadata": {},
   "source": [
    "## Load and plot a spectrum\n",
    "\n",
    "As an example we load the spectrum **EELS_STO.dm3** from the *data* folder.\n",
    "\n",
    "Please see [Loading an EELS Spectrum](LoadEELS.ipynb) for details on storage and plotting.\n",
    "\n",
    "First a dialog to select a file will apear.\n",
    "\n",
    "Then the spectrum plot and ``Spectrum Info`` dialog will appear, in which we set the experimental parameters.\n",
    "\n",
    "Please use the ``Set Energy Scale`` button to change the energy scale. When pressed a new dialog and a cursor will appear in which one is able to set the energy scale based on known features in the spectrum.\n"
   ]
  },
  {
   "cell_type": "code",
   "execution_count": null,
   "metadata": {
    "scrolled": true
   },
   "outputs": [],
   "source": [
    "filename='data/EELS_STO.dm3'\n",
    "\n",
    "datasets=  ft.open_file(filename=filename)\n",
    "chooser = ft.ChooseDataset(datasets)\n",
    "\n",
    "dataset = chooser.dataset\n",
    "\n",
    "if dataset.data_type.name in ['SPECTRUM', 'SPECTRAL_IMAGE']:\n",
    "    info = ieels.InfoDialog(datasets, chooser.key)\n",
    "else:\n",
    "    print('We really need a spectrum here')\n",
    "    dataset.plot()"
   ]
  },
  {
   "cell_type": "code",
   "execution_count": null,
   "metadata": {},
   "outputs": [],
   "source": [
    "dataset.metadata"
   ]
  },
  {
   "cell_type": "code",
   "execution_count": null,
   "metadata": {
    "scrolled": false
   },
   "outputs": [],
   "source": [
    "chooser = ft.ChooseDataset(datasets)"
   ]
  },
  {
   "cell_type": "code",
   "execution_count": null,
   "metadata": {},
   "outputs": [],
   "source": [
    "dataset = chooser.dataset\n",
    "view = dataset.plot()"
   ]
  },
  {
   "cell_type": "markdown",
   "metadata": {},
   "source": [
    "## Chemical Composition \n",
    "The fit of the cross-section and background to the spectrum results in the chemical composition. If the calibration is correct this composition is given as areal density in atoms/nm$^2$\n",
    "\n",
    "\n",
    "###  Fit of Data\n",
    "A dialog window will open, enter the elements first (0 will open a periodic table) and press \n",
    "``Fit Composition`` button (bottom right). Adjust parameters as needed and check fit by pressing the ``Fit Composition`` button again.\n",
    "\n",
    "Select the ``Region`` checkbox to see which parts of the spectrum you choose to fit.\n",
    "\n",
    "Changing the multiplier value will make a simulation of your spectrum.\n",
    "\n",
    "The ``InfoDialog``, if open, still works to change experimental parameters and the energy scale."
   ]
  },
  {
   "cell_type": "code",
   "execution_count": null,
   "metadata": {
    "scrolled": false
   },
   "outputs": [],
   "source": [
    "composition = ieels.CompositionDialog(dataset)"
   ]
  },
  {
   "cell_type": "markdown",
   "metadata": {},
   "source": [
    "### Output of Results"
   ]
  },
  {
   "cell_type": "code",
   "execution_count": null,
   "metadata": {},
   "outputs": [],
   "source": [
    "edges = dataset.metadata['edges']\n",
    "element = []\n",
    "areal_density = []\n",
    "for key, edge in edges.items():\n",
    "    if key.isdigit():\n",
    "        element.append(edge['element'])\n",
    "        areal_density.append(edge['areal_density'])\n",
    "\n",
    "print('Relative chemical composition of ', dataset.title)\n",
    "for i in range(len(element)):\n",
    "    print(f'{element[i]}: {areal_density[i]/np.sum(areal_density)*100:.1f} %')\n",
    "    \n",
    "saved_edges_metadata = edges"
   ]
  },
  {
   "cell_type": "markdown",
   "metadata": {},
   "source": [
    "### Log Data\n",
    "We write all the data to the hdf5 file associated with our dataset.\n",
    "\n",
    "In our case that is only the ``metadata``, in which we stored the ``experimental parameters`` and the ``fitting parameters and result``."
   ]
  },
  {
   "cell_type": "code",
   "execution_count": null,
   "metadata": {},
   "outputs": [],
   "source": [
    "datasets['Log_000'] = dataset.metadata"
   ]
  },
  {
   "cell_type": "markdown",
   "metadata": {},
   "source": [
    "## ELNES\n",
    "The electron energy-loss near edge structure is determined by fititng the spectrum after quantification model subtraction. \n",
    "\n",
    "First smooth the spectrum (only 0 iteration available at this time) and then \n",
    "find the number of peaks you want (Can be repeated as oftern as one wants).\n",
    "\n",
    "Please note that the peaks do not necessarily have a physcial meaning as there are peaks with \n",
    "positive and negative amplitudes. The goal is to get a smooth representation of the spectrum.\n",
    "A difference of a good fit and the data should result in a residual of noise only. To achieve such a good fit, the careful setting of the edge onset is important.\n"
   ]
  },
  {
   "cell_type": "code",
   "execution_count": null,
   "metadata": {},
   "outputs": [],
   "source": [
    "peak_dialog = ieels.PeakFitDialog(dataset)"
   ]
  },
  {
   "cell_type": "markdown",
   "metadata": {},
   "source": [
    "### Output"
   ]
  },
  {
   "cell_type": "code",
   "execution_count": null,
   "metadata": {},
   "outputs": [],
   "source": [
    "areas = []\n",
    "for p, peak in peak_dialog.peaks['peaks'].items():\n",
    "    area = np.sqrt(2* np.pi)* peak['amplitude'] * np.abs(peak['width'] / np.sqrt(2 *np.log(2))) \n",
    "    areas.append(area)\n",
    "    if 'associated_edge' not in peak:\n",
    "        peak['associated_edge']= ''\n",
    "    print(f\"peak  {p}: position: {peak['position']:7.1f}, area: {area:12.3f} associated edge: {peak['associated_edge']}\")\n",
    "#print(f'\\n M4/M5 peak 2 to peak 1 ratio: {(areas[1])/areas[0]:.2f}')"
   ]
  },
  {
   "cell_type": "markdown",
   "metadata": {},
   "source": [
    "### Log Data"
   ]
  },
  {
   "cell_type": "code",
   "execution_count": null,
   "metadata": {},
   "outputs": [],
   "source": [
    "datasets['Log_001'] = dataset.metadata"
   ]
  },
  {
   "cell_type": "code",
   "execution_count": null,
   "metadata": {},
   "outputs": [],
   "source": [
    "datasets['Log_001']"
   ]
  },
  {
   "cell_type": "code",
   "execution_count": null,
   "metadata": {},
   "outputs": [],
   "source": []
  }
 ],
 "metadata": {
  "hide_code_all_hidden": true,
  "kernelspec": {
   "display_name": "Python 3 (ipykernel)",
   "language": "python",
   "name": "python3"
  },
  "language_info": {
   "codemirror_mode": {
    "name": "ipython",
    "version": 3
   },
   "file_extension": ".py",
   "mimetype": "text/x-python",
   "name": "python",
   "nbconvert_exporter": "python",
   "pygments_lexer": "ipython3",
   "version": "3.9.7"
  },
  "toc": {
   "base_numbering": 1,
   "nav_menu": {},
   "number_sections": true,
   "sideBar": true,
   "skip_h1_title": false,
   "title_cell": "Table of Contents",
   "title_sidebar": "Contents",
   "toc_cell": false,
   "toc_position": {
    "height": "calc(100% - 180px)",
    "left": "10px",
    "top": "150px",
    "width": "270px"
   },
   "toc_section_display": true,
   "toc_window_display": false
  },
  "varInspector": {
   "cols": {
    "lenName": 16,
    "lenType": 16,
    "lenVar": 40
   },
   "kernels_config": {
    "python": {
     "delete_cmd_postfix": "",
     "delete_cmd_prefix": "del ",
     "library": "var_list.py",
     "varRefreshCmd": "print(var_dic_list())"
    },
    "r": {
     "delete_cmd_postfix": ") ",
     "delete_cmd_prefix": "rm(",
     "library": "var_list.r",
     "varRefreshCmd": "cat(var_dic_list()) "
    }
   },
   "types_to_exclude": [
    "module",
    "function",
    "builtin_function_or_method",
    "instance",
    "_Feature"
   ],
   "window_display": false
  }
 },
 "nbformat": 4,
 "nbformat_minor": 2
}
