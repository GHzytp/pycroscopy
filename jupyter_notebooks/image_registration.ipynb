{
 "cells": [
  {
   "cell_type": "markdown",
   "metadata": {
    "hideCode": false,
    "hideOutput": true,
    "hidePrompt": false
   },
   "source": [
    "<font size = \"5\"> **[Image Registration](image_registration.ipynb)** </font>\n",
    "\n",
    "<hr style=\"height:1px;border-top:4px solid #FF8200\" />\n",
    "\n",
    "by \n",
    "\n",
    "Gerd Duscher and  Matthew. F. Chisholm\n",
    "\n",
    "Materials Science & Engineering<br>\n",
    "Institute of Advanced Materials & Manufacturing<br>\n",
    "The University of Tennessee, Knoxville\n",
    "\n",
    "\n",
    "\n",
    "# Registration of a Stack of Images And Atom Finding\n",
    "\n",
    "We us this notebook **only** for a stack of images from a reference crystal.\n",
    "Please use the other registration notebook to undistort image stacks."
   ]
  },
  {
   "cell_type": "markdown",
   "metadata": {},
   "source": [
    "\n",
    "## Install pyTEMlib\n",
    "\n",
    "If you have not done so in the [Introduction Notebook](1_Correcting_Image_Distortions.ipynb), please install [pyTEMlib](https://github.com/gduscher/pyTEMlib) with the code cell below.\n",
    "\n",
    "### Install missing packages\n",
    "This can take a while for the first time. This code will have to run at least once on you computer or colab session."
   ]
  },
  {
   "cell_type": "code",
   "execution_count": null,
   "metadata": {
    "scrolled": true
   },
   "outputs": [],
   "source": [
    "import sys\n",
    "from pkg_resources import get_distribution, DistributionNotFound\n",
    "\n",
    "def test_package(package_name):\n",
    "    \"\"\"Test if package exists without loading nd returns version or -1\"\"\"\n",
    "    try:\n",
    "        version = (get_distribution(package_name).version)\n",
    "    except (DistributionNotFound, ImportError) as err:\n",
    "        version = '-1'\n",
    "    return version\n",
    "\n",
    "# pyTEMlib setup ------------------\n",
    "if test_package('pyTEMlib') < '0.2022.9.0':\n",
    "    print('installing pyTEMlib')\n",
    "    !{sys.executable} -m pip install  --upgrade pyTEMlib -q\n",
    "# ------------------------------\n",
    "print('done')"
   ]
  },
  {
   "cell_type": "markdown",
   "metadata": {
    "hideCode": false,
    "hidePrompt": false
   },
   "source": [
    "## Import the usual libraries\n",
    "\n",
    "\n",
    "You'll need at least pyTEMlib version 0.2022.6.0\n",
    "\n",
    "You can load that library with the code cell above:"
   ]
  },
  {
   "cell_type": "code",
   "execution_count": null,
   "metadata": {
    "hideCode": false,
    "hidePrompt": false,
    "scrolled": true
   },
   "outputs": [],
   "source": [
    "%matplotlib notebook\n",
    "import matplotlib.pylab as plt\n",
    "import numpy as np\n",
    "\n",
    "# Import libraries from pycroscopy\n",
    "\n",
    "import pyTEMlib\n",
    "import pyTEMlib.file_tools  as ft     # File input/ output library\n",
    "import pyTEMlib.image_tools as it\n",
    "import pyTEMlib.probe_tools\n",
    "import pyTEMlib.atom_tools\n",
    "\n",
    "# For archiving reasons it is a good idea to print the version numbers out at this point\n",
    "print('pyTEM version: ',pyTEMlib.__version__)\n",
    "\n",
    "__notebook__ = 'Image_Registration'\n",
    "__notebook_version__ = '2022_07_29'\n"
   ]
  },
  {
   "cell_type": "markdown",
   "metadata": {
    "hideCode": false,
    "hidePrompt": false
   },
   "source": [
    "## Load an image stack :\n",
    "\n",
    "Please, load an image stack. <br> \n",
    "\n",
    "You may use 'STO-stack.h5' to test this notebook.\n",
    "\n",
    "A stack of images is used to reduce noise, but for an added image the images have to be aligned to compensate for drift and other microscope instabilities.\n",
    "\n",
    "You select here (with the ``Open_Nion_Directory`` parameter,) whether an **open file dialog** apears in the code cell below the next one or whether you want to get a list of files (Nion has a weird way of dealing with file names).\n",
    "Note that the **open file dialog** might not apear in the foreground!"
   ]
  },
  {
   "cell_type": "code",
   "execution_count": null,
   "metadata": {},
   "outputs": [],
   "source": [
    "!pip install pyqt5 #needed for the file dialogs"
   ]
  },
  {
   "cell_type": "code",
   "execution_count": null,
   "metadata": {},
   "outputs": [],
   "source": [
    "datasets = ft.open_file()\n",
    "chooser = ft.ChooseDataset(datasets)"
   ]
  },
  {
   "cell_type": "code",
   "execution_count": null,
   "metadata": {},
   "outputs": [],
   "source": [
    "dataset = chooser.dataset\n",
    "view = dataset.plot()\n"
   ]
  },
  {
   "cell_type": "code",
   "execution_count": null,
   "metadata": {},
   "outputs": [],
   "source": [
    "dataset.data_descriptor"
   ]
  },
  {
   "cell_type": "code",
   "execution_count": null,
   "metadata": {},
   "outputs": [],
   "source": [
    "view = dataset.plot()"
   ]
  },
  {
   "cell_type": "markdown",
   "metadata": {},
   "source": [
    "Some of the metadata is available in the ``hdf5_dataset`` but all ``original metadata`` can be found in the ``Channel_000`` of this hyrachical data format."
   ]
  },
  {
   "cell_type": "markdown",
   "metadata": {},
   "source": [
    "## Complete Registration \n",
    "\n",
    "Takes a while, depending on your computer between 1 and 10 minutes\n",
    "\n",
    "### Rigid Registration\n",
    "\n",
    "Using sub-pixel accuracy registration determination method of:\n",
    "\n",
    "Manuel Guizar-Sicairos, Samuel T. Thurman, and James R. Fienup, “Efficient subpixel image registration algorithms,” Optics Letters 33, 156-158 (2008). [DOI:10.1364/OL.33.000156](https://www.doi.org/%2010.1364/OL.33.000156)\n",
    "\n",
    "as implemented in ``phase_cross_correlation`` function by ``scikit-image`` in the [registration](https://scikit-image.org/docs/dev/api/skimage.registration.html) package. \n",
    "\n",
    "### Non-Rigid Registration\n",
    "\n",
    "Here we use the **Diffeomorphic Demon Non-Rigid Registration** as provided by **simpleITK**.  \n",
    "\n",
    "Please Cite: \n",
    "* [simpleITK](http://www.simpleitk.org/SimpleITK/project/parti.html)\n",
    "    \n",
    "    and\n",
    "    \n",
    "* [T. Vercauteren, X. Pennec, A. Perchant and N. Ayache *Diffeomorphic Demons Using ITK\\'s Finite Difference Solver Hierarchy* The Insight Journal, 2007](http://hdl.handle.net/1926/510)"
   ]
  },
  {
   "cell_type": "code",
   "execution_count": null,
   "metadata": {},
   "outputs": [],
   "source": [
    "rig_reg_dataset = it.rigid_registration(dataset)\n",
    "\n",
    "view = rig_reg_dataset.plot()\n",
    "rig_reg_dataset"
   ]
  },
  {
   "cell_type": "markdown",
   "metadata": {},
   "source": [
    "You will need to zoom in to see that the images are changing.\n",
    "\n",
    "Compare this to the rigid-registered stack"
   ]
  },
  {
   "cell_type": "code",
   "execution_count": null,
   "metadata": {},
   "outputs": [],
   "source": [
    "rig_reg_dataset.plot();"
   ]
  },
  {
   "cell_type": "markdown",
   "metadata": {},
   "source": [
    "### Check Drift"
   ]
  },
  {
   "cell_type": "code",
   "execution_count": null,
   "metadata": {},
   "outputs": [],
   "source": [
    "scale_x = ft.get_slope(rig_reg_dataset.x.values)*1000.\n",
    "drift = rig_reg_dataset.metadata['drift']\n",
    "x = np.linspace(0,drift.shape[0]-1,drift.shape[0])\n",
    "\n",
    "polynom_degree = 2 # 1 is linear fit, 2 is parabolic fit, ...\n",
    "line_fit_x = np.polyfit(x, drift[:,0], polynom_degree)\n",
    "poly_x = np.poly1d(line_fit_x)\n",
    "line_fit_y = np.polyfit(x, drift[:,1], polynom_degree)\n",
    "poly_y = np.poly1d(line_fit_y)\n",
    "\n",
    "\n",
    "plt.figure()\n",
    "# plot drift and fit of drift\n",
    "plt.axhline(color = 'gray')\n",
    "plt.plot(x, drift[:,0], label = 'drift x')\n",
    "plt.plot(x, drift[:,1], label = 'drift y')\n",
    "plt.plot(x, poly_x(x),  label = 'fit_drift_x')\n",
    "plt.plot(x, poly_y(x),  label = 'fit_drift_y')\n",
    "plt.legend();\n",
    "\n",
    "# set second axis in pico meter\n",
    "ax_pixels = plt.gca()\n",
    "ax_pixels.step(1, 1)\n",
    "ax_pm = ax_pixels.twinx()\n",
    "x_1, x_2 = ax_pixels.get_ylim()\n",
    "ax_pm.set_ylim(x_1*scale_x, x_2*scale_x)\n",
    "\n",
    "# add labels\n",
    "ax_pixels.set_ylabel('drift [pixels]')\n",
    "ax_pm.set_ylabel('drift [pm]')\n",
    "ax_pixels.set_xlabel('image number');\n",
    "plt.tight_layout()"
   ]
  },
  {
   "cell_type": "markdown",
   "metadata": {},
   "source": [
    "## Non-Rigid Registration"
   ]
  },
  {
   "cell_type": "code",
   "execution_count": null,
   "metadata": {},
   "outputs": [],
   "source": [
    "non_rigid_registered = it.demon_registration(rig_reg_dataset)\n",
    "\n",
    "view = non_rigid_registered.plot()"
   ]
  },
  {
   "cell_type": "markdown",
   "metadata": {},
   "source": [
    "## Appendix"
   ]
  },
  {
   "cell_type": "markdown",
   "metadata": {},
   "source": [
    "### Demon Registration\n",
    "\n",
    "Here we use the **Diffeomorphic Demon Non-Rigid Registration** as provided by **simpleITK**.  \n",
    "\n",
    "Please Cite: \n",
    "* [simpleITK](http://www.simpleitk.org/SimpleITK/project/parti.html)\n",
    "    \n",
    "    and\n",
    "    \n",
    "* [T. Vercauteren, X. Pennec, A. Perchant and N. Ayache *Diffeomorphic Demons Using ITK\\'s Finite Difference Solver Hierarchy* The Insight Journal, 2007](http://hdl.handle.net/1926/510)"
   ]
  },
  {
   "cell_type": "markdown",
   "metadata": {},
   "source": [
    "This Non-Rigid Registration consists of the following steps:\n",
    "\n",
    "- determine ``reference`` image\n",
    "    - For this we use the average of the rigid registered stack\n",
    "    - this averaged stack is then smeared with a Gaussian of sigma 2 pixel to reduce noise\n",
    "    - under the assumption that high frequency scan distortions cancel out over several images, we, therefore, obtained the center of mass of the atoms. \n",
    "\n",
    "- perform the ``demon registration`` filter to determine a distortion matrix\n",
    "    - each single image of a stack is first smeared with a Gaussian of sigma of 2pixels\n",
    "    - then the deformation matrix is determined for these images\n",
    "    - the deformation matrix is a matrix where each pixel has a vector ( x, and y value) for the relative shift of this pixel.\n",
    "    \n",
    "- This deformation matrix is used to ``transform`` the image\n",
    "\t- The transformation is performed on the original image.\n",
    "\t- Important, here, is to set the interpolator method, (the image needs to be interpolated because the new pixels are not on an integer grid.)\n",
    "    \n",
    "    \n",
    "Let's see what the different interpolators do.\n",
    "\n",
    "|Method\t| RMS contrast |\tStandard |\tMean |\n",
    "|-------|:--------------|:-------------|:-------|\n",
    "|original   |0.1965806\t|0.07764114\t|0.3949583\n",
    "|Linear\t    |0.20159315\t|0.079470366\t|0.39421165\n",
    "|BSpline\t|0.20162606\t|0.0794831 \t|0.39421043\n",
    "|Gaussian\t|0.14310582\t|0.056414302 \t|0.39421389\n",
    "|Hamming\t|0.20163293\t|0.07948672 \t|0.39421496\n",
    "\n",
    "The Gaussian interpolator as the only one seems to smear the signal.\n",
    "\n",
    "We will use the ``Bspline`` method a fast and simple method that does not introduce spurious features and does not smear the signal.\n"
   ]
  },
  {
   "cell_type": "markdown",
   "metadata": {},
   "source": [
    "#### Full Code of Demon registration "
   ]
  },
  {
   "cell_type": "code",
   "execution_count": null,
   "metadata": {},
   "outputs": [],
   "source": [
    "import simpleITK as sitk\n",
    "\n",
    "def DemonReg(cube, verbose = False):\n",
    "    \"\"\"\n",
    "    Diffeomorphic Demon Non-Rigid Registration \n",
    "    Usage:\n",
    "    ------\n",
    "    DemReg = DemonReg(cube, verbose = False)\n",
    "\n",
    "    Input:\n",
    "        cube: stack of image after rigid registration and cropping\n",
    "    Output:\n",
    "        DemReg: stack of images with non-rigid registration\n",
    "\n",
    "    Dempends on:\n",
    "        simpleITK and numpy\n",
    "    \n",
    "    Please Cite: http://www.simpleitk.org/SimpleITK/project/parti.html\n",
    "    and T. Vercauteren, X. Pennec, A. Perchant and N. Ayache\n",
    "    Diffeomorphic Demons Using ITK\\'s Finite Difference Solver Hierarchy\n",
    "    The Insight Journal, http://hdl.handle.net/1926/510 2007\n",
    "    \"\"\"\n",
    "    \n",
    "    DemReg =  np.zeros_like(cube)\n",
    "    nimages = cube.shape[0]\n",
    "    print(nimages)\n",
    "    # create fixed image by summing over rigid registration\n",
    "\n",
    "    fixed_np = np.average(current_dataset, axis=0)\n",
    "\n",
    "    fixed = sitk.GetImageFromArray(fixed_np)\n",
    "    fixed = sitk.DiscreteGaussian(fixed, 2.0)\n",
    "\n",
    "    #demons = sitk.SymmetricForcesDemonsRegistrationFilter()\n",
    "    demons = sitk.DiffeomorphicDemonsRegistrationFilter()\n",
    "\n",
    "    demons.SetNumberOfIterations(200)\n",
    "    demons.SetStandardDeviations(1.0)\n",
    "\n",
    "    resampler = sitk.ResampleImageFilter()\n",
    "    resampler.SetReferenceImage(fixed);\n",
    "    resampler.SetInterpolator(sitk.sitkBspline)\n",
    "    resampler.SetDefaultPixelValue(0)\n",
    "\n",
    "    done = 0\n",
    "        \n",
    "    for i in range(nimages):\n",
    "        if done < int((i+1)/nimages*50):\n",
    "            done = int((i+1)/nimages*50)\n",
    "            sys.stdout.write('\\r')\n",
    "            # progress output :\n",
    "            sys.stdout.write(\"[%-50s] %d%%\" % ('*'*done, 2*done))\n",
    "            sys.stdout.flush()\n",
    "        \n",
    "        moving = sitk.GetImageFromArray(cube[i])\n",
    "        movingf = sitk.DiscreteGaussian(moving, 2.0)\n",
    "        displacementField = demons.Execute(fixed,movingf)\n",
    "        outTx = sitk.DisplacementFieldTransform( displacementField )\n",
    "        resampler.SetTransform(outTx)\n",
    "        out = resampler.Execute(moving)\n",
    "        DemReg[i,:,:] = sitk.GetArrayFromImage(out)\n",
    "        #print('image ', i)\n",
    "        \n",
    "    \n",
    "    print(':-)')\n",
    "    print('You have succesfully completed Diffeomorphic Demons Registration')\n",
    "    \n",
    "    return DemReg\n"
   ]
  },
  {
   "cell_type": "code",
   "execution_count": null,
   "metadata": {},
   "outputs": [],
   "source": []
  }
 ],
 "metadata": {
  "hide_code_all_hidden": false,
  "kernelspec": {
   "display_name": "Python 3 (ipykernel)",
   "language": "python",
   "name": "python3"
  },
  "language_info": {
   "codemirror_mode": {
    "name": "ipython",
    "version": 3
   },
   "file_extension": ".py",
   "mimetype": "text/x-python",
   "name": "python",
   "nbconvert_exporter": "python",
   "pygments_lexer": "ipython3",
   "version": "3.9.15"
  },
  "toc": {
   "base_numbering": "2",
   "nav_menu": {},
   "number_sections": true,
   "sideBar": true,
   "skip_h1_title": false,
   "title_cell": "Table of Contents",
   "title_sidebar": "Contents",
   "toc_cell": false,
   "toc_position": {
    "height": "calc(100% - 180px)",
    "left": "10px",
    "top": "150px",
    "width": "174px"
   },
   "toc_section_display": true,
   "toc_window_display": true
  },
  "varInspector": {
   "cols": {
    "lenName": 16,
    "lenType": 16,
    "lenVar": 40
   },
   "kernels_config": {
    "python": {
     "delete_cmd_postfix": "",
     "delete_cmd_prefix": "del ",
     "library": "var_list.py",
     "varRefreshCmd": "print(var_dic_list())"
    },
    "r": {
     "delete_cmd_postfix": ") ",
     "delete_cmd_prefix": "rm(",
     "library": "var_list.r",
     "varRefreshCmd": "cat(var_dic_list()) "
    }
   },
   "types_to_exclude": [
    "module",
    "function",
    "builtin_function_or_method",
    "instance",
    "_Feature"
   ],
   "window_display": false
  }
 },
 "nbformat": 4,
 "nbformat_minor": 4
}
