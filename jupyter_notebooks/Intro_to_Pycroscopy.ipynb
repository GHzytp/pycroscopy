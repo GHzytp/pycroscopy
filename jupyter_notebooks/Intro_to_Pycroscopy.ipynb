{
  "cells": [
    {
      "cell_type": "markdown",
      "id": "6bcce3c2",
      "metadata": {
        "id": "6bcce3c2"
      },
      "source": [
        "# <center> <font color = \"green\">A processing and analytics system for microscopy data workflows: the Pycroscopy ecosystem of packages\n",
        "<img src = \"https://github.com/pycroscopy/pycroscopy/blob/main/docs/px_logo_new.png?raw=true\"> </img>\n",
        "    \n",
        "<center><font size = 3> R. Vasudevan<sup>1</sup>, S. M. Valleti,<sup>2</sup> M. Ziatdinov,<sup>1,3</sup> G. Duscher,<sup>4,</sup> and S. Somnath<sup>5,6</sup> </font></center>\n",
        "\n",
        "<sup>1</sup>Center for Nanophase Materials Sciences, Oak Ridge National Laboratory \\\n",
        "<sup>2</sup>Bredesen Center for Interdisciplinary Research, University of Tennessee, Knoxville \\\n",
        "<sup>3</sup>Computational Sciences and Engineering Division, Oak Ridge National Laboratory \\\n",
        "<sup>4</sup>Department of Materials Science and Engineering, University of Tennessee, Knoxville \\\n",
        "<sup>5</sup>National Center for Computational Sciences, Oak Ridge National Laboratory \\\n",
        "<sup>6</sup>Current affiliation: McKinsey Consulting Group\n",
        "    \n",
        "This notebook accompanies our paper on the Pycroscopy Ecosystem of packages.\n",
        "\n",
        "We will go through several examples of use cases. More information can be found <a href = \"https://pycroscopy.github.io/pycroscopy/ecosystem.html\">here</a>\n",
        "\n",
        "## <left> Visualization, Spectral processing and Matrix Factorization with Pycroscopy\n",
        "    \n",
        "In this notebook we will go thorugh basics of loading files, visualizing them, fitting spectra to functions, and then more advanced image manipulation and matrix factorization\n",
        "  "
      ]
    },
    {
      "cell_type": "code",
      "execution_count": null,
      "id": "233273c5",
      "metadata": {
        "id": "233273c5"
      },
      "outputs": [],
      "source": [
        "#Load required packages\n",
        "!pip install pyNSID sidpy SciFiReaders nanonispy gwyfile pycroscopy wget ipympl"
      ]
    },
    {
      "cell_type": "code",
      "execution_count": null,
      "id": "6c75e25f",
      "metadata": {
        "id": "6c75e25f"
      },
      "outputs": [],
      "source": [
        "#download the required data\n",
        "import wget\n",
        "wget.download(url='https://github.com/pycroscopy/pycroscopy/blob/main/sample_data/bfo_iv_final.hf5?raw=true', \n",
        "              out = 'bfo_iv_final.hf5');\n",
        "wget.download(url='https://github.com/pycroscopy/pycroscopy/blob/main/sample_data/bto_atomic.dm3?raw=true', \n",
        "              out = 'bto_atomic.dm3');\n",
        "wget.download(url='https://github.com/pycroscopy/pycroscopy/blob/main/sample_data/re48.tiff?raw=true', \n",
        "              out = 're48.tiff');"
      ]
    },
    {
      "cell_type": "code",
      "source": [
        "colab = True #Set to True if in Google Colab, else set to False\n",
        "if colab:\n",
        "  %matplotlib widget\n",
        "  from google.colab import output\n",
        "  output.enable_custom_widget_manager()\n",
        "else:\n",
        "  %matplotlib notebook"
      ],
      "metadata": {
        "id": "jlXbQODi8C2P"
      },
      "id": "jlXbQODi8C2P",
      "execution_count": null,
      "outputs": []
    },
    {
      "cell_type": "code",
      "execution_count": null,
      "id": "b992e8e0",
      "metadata": {
        "id": "b992e8e0"
      },
      "outputs": [],
      "source": [
        "import sys\n",
        "import os\n",
        "import matplotlib.pyplot as plt\n",
        "import numpy as np\n",
        "\n",
        "import pyNSID\n",
        "import sidpy as sid\n",
        "import SciFiReaders as sr\n",
        "from sidpy.proc.fitter import SidFitter"
      ]
    },
    {
      "cell_type": "markdown",
      "id": "e6f15aa4",
      "metadata": {
        "id": "e6f15aa4"
      },
      "source": [
        "# Load and Visualize Spectral dataset\n",
        "\n",
        "Here we load a dataset of I-V curves captured by conductive atomic force microscopy, on a BiFeO3 sample.\n",
        "The data has been transformed so that we plot not the log of the current density J, as a function of the square root of the electric field. I-V curves plotted in this fashion will be linear if they follow Schottky emission cinduction laws. The dataset was originally presented in the paper <a href = \"https://www.nature.com/articles/s41467-017-01334-5\"> Vasudevan et al. Nat Commun. 8, 1318 (2017) </a>\n",
        "\n",
        "Here we will load the file, which was saved as a pyNSID HDF5 file, using SciFiReaders, which reads it into a <i>sidpy.Dataset</i> object\n",
        "\n",
        "Then we will use the .plot() method of the <i>sidpy.Dataset</i> object for interactive visualization.\n"
      ]
    },
    {
      "cell_type": "code",
      "execution_count": null,
      "id": "5850713e",
      "metadata": {
        "id": "5850713e"
      },
      "outputs": [],
      "source": [
        "data_path = r'bfo_iv_final.hf5'\n",
        "dr = sr.NSIDReader(data_path)\n",
        "dataset_sid = dr.read()[0]\n",
        "dataset_sid.plot();\n"
      ]
    },
    {
      "cell_type": "markdown",
      "id": "857fa64e",
      "metadata": {
        "id": "857fa64e"
      },
      "source": [
        "# Functional Fitting\n",
        "\n",
        "Much of the data appears linear. We can define any function of our choice and use sidpy's <i>SidFitter</i> class to make it easy to perform the fit on all of the spectra. We simply define the fit function, instantiate the class, and then call the do_fit() method.\n",
        "\n",
        "Advantages of using the fitter class include:\n",
        "- Innate scalability: we leverage the parallelism of Dask, so that the computations are performed in parallel\n",
        "- Superior priors: We can use a k-means cluster approach to improve priors for the function fits, as described in <a href = \"https://iopscience.iop.org/article/10.1088/2632-2153/abfbba/meta\">Creange et al.</a>\n",
        "- Dimension handling: There is intelligent folding and unfolding within the class to handle simple cases. For more complex situations (e.g., when there are multiple spectral dimensions, but only one is used for the fitting), these can be specified too.\n"
      ]
    },
    {
      "cell_type": "code",
      "execution_count": null,
      "id": "63836a5a",
      "metadata": {
        "id": "63836a5a"
      },
      "outputs": [],
      "source": [
        "#Define the function we want each spectrum to\n",
        "\n",
        "def one_lin_func(xvec, *coeff):\n",
        "    a1,a2 = coeff\n",
        "    return a1*xvec + a2\n",
        "\n",
        "#Instantiate the SidFitter class\n",
        "fitter = SidFitter(dataset_sid, one_lin_func,num_workers=4,\n",
        "                           threads=2, return_cov=False, return_fit=True, return_std=False,\n",
        "                           km_guess=True,num_fit_parms = 2)"
      ]
    },
    {
      "cell_type": "code",
      "execution_count": null,
      "id": "c12c2cce",
      "metadata": {
        "id": "c12c2cce"
      },
      "outputs": [],
      "source": [
        "fit_parameters, fitted_dataset = fitter.do_fit() #With one line we can fit all the spectra"
      ]
    },
    {
      "cell_type": "markdown",
      "id": "9d1a605c",
      "metadata": {
        "id": "9d1a605c"
      },
      "source": [
        "## Visualize Fit Results\n",
        "\n",
        "We can visualize the parameter maps from the fititng, or visualize the fitted data curves"
      ]
    },
    {
      "cell_type": "markdown",
      "id": "a3eccbbd",
      "metadata": {
        "id": "a3eccbbd"
      },
      "source": [
        "### Visualize coeffient maps\n",
        "\n",
        "The functional fits provided us with coefficient maps for the fit parameters.\n",
        "\n",
        "We can simply call the .plot() method again to visualize them."
      ]
    },
    {
      "cell_type": "code",
      "execution_count": null,
      "id": "40fbaa00",
      "metadata": {
        "id": "40fbaa00"
      },
      "outputs": [],
      "source": [
        "fit_parameters.plot();"
      ]
    },
    {
      "cell_type": "markdown",
      "id": "05e87ed0",
      "metadata": {
        "id": "05e87ed0"
      },
      "source": [
        "### Visualize fitted spectra\n",
        "Each spectrum is associated with a specific fit. \n",
        "\n",
        "We can visualize them again easily\n",
        "through calling the <i>visualize_fit_results()</i> method of the SidFitter class."
      ]
    },
    {
      "cell_type": "code",
      "execution_count": null,
      "id": "2580f617",
      "metadata": {
        "scrolled": false,
        "id": "2580f617"
      },
      "outputs": [],
      "source": [
        "fitter.visualize_fit_results() # We can visualize the results of the fit interactively too..."
      ]
    },
    {
      "cell_type": "markdown",
      "id": "35c0ceb8",
      "metadata": {
        "id": "35c0ceb8"
      },
      "source": [
        "# Save the results\n",
        "\n",
        "We can easily save back to the original HDF5 file. \n",
        "This will help us when it comes to e.g., publications -> provide all the necessary data.\n",
        "\n"
      ]
    },
    {
      "cell_type": "code",
      "execution_count": null,
      "id": "12b6d0cd",
      "metadata": {
        "id": "12b6d0cd"
      },
      "outputs": [],
      "source": [
        "import h5py\n",
        "new_h5_filename = r'new_exp_file.hf5'\n",
        "hf = h5py.File(new_h5_filename, 'a') #Create a new file"
      ]
    },
    {
      "cell_type": "code",
      "execution_count": null,
      "id": "2355d227",
      "metadata": {
        "id": "2355d227"
      },
      "outputs": [],
      "source": [
        "#We can save the fitted results with pyNSID\n",
        "hf_grp = hf.create_group('Measurement_000/Channel_000') #Create a group\n",
        "\n",
        "#Let's save the raw data first\n",
        "pyNSID.hdf_io.write_nsid_dataset(dataset_sid, hf_grp, main_data_name=\"IV_BFO_Raw\")"
      ]
    },
    {
      "cell_type": "code",
      "execution_count": null,
      "id": "c4fbf6d4",
      "metadata": {
        "id": "c4fbf6d4"
      },
      "outputs": [],
      "source": [
        "fitted_dataset.metadata"
      ]
    },
    {
      "cell_type": "code",
      "execution_count": null,
      "id": "26b3a7d2",
      "metadata": {
        "id": "26b3a7d2"
      },
      "outputs": [],
      "source": [
        "sid.hdf_utils.print_tree(hf)"
      ]
    },
    {
      "cell_type": "code",
      "execution_count": null,
      "id": "a0637a12",
      "metadata": {
        "id": "a0637a12"
      },
      "outputs": [],
      "source": [
        "hf_results_grp = hf['Measurement_000/Channel_000/IV_BFO_Raw'] #Let's put the results here.\n",
        "\n",
        "pyNSID.hdf_io.write_nsid_dataset(fit_parameters, hf_results_grp, main_data_name=\"IV_BFO_Fit_Parameters\")\n",
        "pyNSID.hdf_io.write_nsid_dataset(fitted_dataset, hf_results_grp, main_data_name=\"IV_BFO_Fitted_Spectra\")\n",
        "\n",
        "sid.hdf_utils.print_tree(hf) #print result\n",
        "\n",
        "hf.close()"
      ]
    },
    {
      "cell_type": "markdown",
      "id": "73507c41",
      "metadata": {
        "id": "73507c41"
      },
      "source": [
        "# Second example - Image analysis\n",
        "\n",
        "The pycroscopy package has some tools for generic image analysis, as well as wrappers around common machine learning methods. These include matrix and tensor factorization techniques. Let us explore one example.\n",
        "\n",
        "First we will import a microscopy image, and then we will perform image windowing\n",
        "\n",
        "We will then use matrix factorization to analyze the spatial distribution of different phases\n",
        "\n",
        "This is explained in <a href = \"https://pubs.acs.org/doi/full/10.1021/acs.nanolett.6b02130\">this article</a>.\n"
      ]
    },
    {
      "cell_type": "code",
      "execution_count": null,
      "id": "baaf0522",
      "metadata": {
        "id": "baaf0522"
      },
      "outputs": [],
      "source": [
        "import sys\n",
        "import os\n",
        "import matplotlib.pyplot as plt\n",
        "import numpy as np\n",
        "import pyNSID\n",
        "\n",
        "import sidpy as sid\n",
        "import SciFiReaders as sr\n",
        "from sidpy.proc.fitter import SidFitter\n",
        "import warnings\n",
        "warnings.filterwarnings('ignore')"
      ]
    },
    {
      "cell_type": "code",
      "execution_count": null,
      "id": "4b5d824c",
      "metadata": {
        "id": "4b5d824c"
      },
      "outputs": [],
      "source": [
        "dm3_file = r'bto_atomic.dm3'\n",
        "png_file = r're48.tiff'\n",
        "\n",
        "dm3_reader = sr.DM3Reader(dm3_file)\n",
        "img_reader = sr.ImageReader(png_file)\n",
        "\n",
        "data = dm3_reader.read()[0]"
      ]
    },
    {
      "cell_type": "code",
      "execution_count": null,
      "id": "6946005d",
      "metadata": {
        "id": "6946005d"
      },
      "outputs": [],
      "source": [
        "data.plot();"
      ]
    },
    {
      "cell_type": "code",
      "execution_count": null,
      "id": "65a6c0fc",
      "metadata": {
        "id": "65a6c0fc"
      },
      "outputs": [],
      "source": [
        "#Let's crop the image and try again\n",
        "# Make a sidpy dataset\n",
        "\n",
        "x_dim = data.dim_0.values\n",
        "y_dim = data.dim_1.values\n",
        "\n",
        "data_cropped = data[:][200:-200,10:550]\n",
        "\n",
        "data_set = sid.Dataset.from_array(data_cropped, title='BTO_STEM')\n",
        "\n",
        "# Set the data type\n",
        "data_set.data_type = sid.DataType.IMAGE\n",
        "\n",
        "# Add quantity and units\n",
        "data_set.units = 'counts'\n",
        "data_set.quantity = 'Intensity'\n",
        "\n",
        "y_dim = y_dim[10:550]\n",
        "x_dim = x_dim[200:-200]\n",
        "\n",
        "# Add dimension info\n",
        "data_set.set_dimension(0, sid.Dimension(x_dim,\n",
        "                                        name='x',\n",
        "                                        units='nm', quantity='x',\n",
        "                                        dimension_type='spatial'))\n",
        "data_set.set_dimension(1, sid.Dimension(y_dim,\n",
        "                                        name='y',\n",
        "                                        units='nm', quantity='y',\n",
        "                                        dimension_type='spatial'))\n"
      ]
    },
    {
      "cell_type": "code",
      "execution_count": null,
      "id": "b360dc78",
      "metadata": {
        "id": "b360dc78"
      },
      "outputs": [],
      "source": [
        "data_set.plot();"
      ]
    },
    {
      "cell_type": "code",
      "execution_count": null,
      "id": "805bce73",
      "metadata": {
        "scrolled": true,
        "id": "805bce73"
      },
      "outputs": [],
      "source": [
        "from pycroscopy.image import ImageWindowing\n",
        "\n",
        "parms_dict = {}\n",
        "parms_dict['window_step_x'] = 8\n",
        "parms_dict['window_step_y'] = 8\n",
        "parms_dict['window_size_x'] = 128\n",
        "parms_dict['window_size_y'] = 128\n",
        "parms_dict['mode'] = 'fft'\n",
        "parms_dict['filter'] = 'hamming'\n",
        "parms_dict['zoom_factor'] = 2\n",
        "parms_dict['interpol_factor'] = 2\n",
        "iw = ImageWindowing(parms_dict)\n",
        "windows = iw.MakeWindows(data_set)\n",
        "windows = np.abs(np.log(np.abs(windows)))\n",
        "\n"
      ]
    },
    {
      "cell_type": "code",
      "execution_count": null,
      "id": "b896200c",
      "metadata": {
        "id": "b896200c"
      },
      "outputs": [],
      "source": [
        "windows.plot();"
      ]
    },
    {
      "cell_type": "code",
      "execution_count": null,
      "id": "9f9ad82f",
      "metadata": {
        "id": "9f9ad82f"
      },
      "outputs": [],
      "source": [
        "from pycroscopy.learn.ml.matrix_factor import MatrixFactor\n",
        "mfactor = MatrixFactor(np.abs(windows), method = 'nmf',n_components = 2 )\n",
        "output = mfactor.do_fit()"
      ]
    },
    {
      "cell_type": "code",
      "execution_count": null,
      "id": "a9880227",
      "metadata": {
        "id": "a9880227"
      },
      "outputs": [],
      "source": [
        "abundances = output[0]\n",
        "components = output[1]\n",
        "abund = np.array(abundances)\n",
        "comps = np.array(components)"
      ]
    },
    {
      "cell_type": "code",
      "execution_count": null,
      "id": "61908793",
      "metadata": {
        "id": "61908793"
      },
      "outputs": [],
      "source": [
        "from mpl_toolkits.axes_grid1 import make_axes_locatable\n",
        "\n",
        "fig, axes = plt.subplots(nrows=1, ncols=mfactor.ncomp, figsize = (10,3))\n",
        "for ind, ax in enumerate(axes.flat):\n",
        "    im1 = ax.imshow(comps[ind,:,:])\n",
        "    ax.set_title('Component #' + str(ind))\n",
        "    divider = make_axes_locatable(ax)\n",
        "    cax = divider.append_axes('right', size='5%', pad=0.05)\n",
        "    fig.colorbar(im1, cax=cax, orientation='vertical')\n",
        "    ax.axis('off')\n",
        "fig.tight_layout()\n",
        "\n",
        "fig, axes = plt.subplots(nrows=1, ncols=mfactor.ncomp, figsize = (10,3))\n",
        "for ind, ax in enumerate(axes.flat):\n",
        "    im1 = ax.imshow(abund[:,:,ind])\n",
        "    divider = make_axes_locatable(ax)\n",
        "    cax = divider.append_axes('right', size='5%', pad=0.05)\n",
        "    fig.colorbar(im1, cax=cax, orientation='vertical')\n",
        "    ax.axis('off')\n",
        "\n",
        "fig.tight_layout()"
      ]
    },
    {
      "cell_type": "code",
      "execution_count": null,
      "id": "bc8e223a",
      "metadata": {
        "id": "bc8e223a"
      },
      "outputs": [],
      "source": []
    }
  ],
  "metadata": {
    "kernelspec": {
      "display_name": "Python 3 (ipykernel)",
      "language": "python",
      "name": "python3"
    },
    "language_info": {
      "codemirror_mode": {
        "name": "ipython",
        "version": 3
      },
      "file_extension": ".py",
      "mimetype": "text/x-python",
      "name": "python",
      "nbconvert_exporter": "python",
      "pygments_lexer": "ipython3",
      "version": "3.9.13"
    },
    "colab": {
      "provenance": []
    },
    "gpuClass": "standard"
  },
  "nbformat": 4,
  "nbformat_minor": 5
}